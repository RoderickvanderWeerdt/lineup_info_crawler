{
 "cells": [
  {
   "cell_type": "code",
   "execution_count": 2,
   "metadata": {},
   "outputs": [],
   "source": [
    "import requests\n",
    "from bs4 import BeautifulSoup\n"
   ]
  },
  {
   "cell_type": "code",
   "execution_count": 12,
   "id": "ceaf9718",
   "metadata": {},
   "outputs": [
    {
     "name": "stdout",
     "output_type": "stream",
     "text": [
      "{'href': 'https://downtherabbithole.nl/programma/massive-attack', 'title': 'Massive Attack', 'class': ['group']}\n"
     ]
    }
   ],
   "source": [
    "response = requests.get(\"https://downtherabbithole.nl/programma\")\n",
    "soup = BeautifulSoup(response.text, 'html.parser')\n",
    "for div in soup.findAll(\"a\", {\"class\": \"group\"}):\n",
    "    print(div.attrs)\n",
    "    break\n"
   ]
  },
  {
   "cell_type": "code",
   "execution_count": null,
   "id": "ab84838f",
   "metadata": {},
   "outputs": [],
   "source": [
    "\n",
    "def get_info(url, act, ret):\n",
    "    headers = {\n",
    "    'User-Agent': 'Mozilla/5.0 (X11; Linux i586; rv:31.0) Gecko/20100101 Firefox/31.0'\n",
    "    }\n",
    "    try:\n",
    "        source_code = requests.get(url, headers=headers)\n",
    "    except:\n",
    "        if not ret:\n",
    "            print(act+\"--\"+\"--\"+\"--\")\n",
    "        return 0\n",
    "    plain_text = source_code.text\n",
    "    soup = BeautifulSoup(plain_text, features=\"lxml\")\n",
    "    \n",
    "    name = \"\"\n",
    "    activeDate = \"\"\n",
    "    genres = []\n",
    "    styles = []\n",
    "    for div in soup.findAll('div', {'class': 'activeDates'}):\n",
    "        activeDate = str(div)[str(div).find('<div>')+len('<div>'):-len('</div>\\n</div>')]\n",
    "    for div in soup.findAll('h1', {'id': 'artistName'}):\n",
    "        tag = \"\"\"id=\"artistName\">\"\"\"\n",
    "        name = str(div)[str(div).find(tag)+len(tag):-len('</h1>')]\n",
    "    \n",
    "    for div in soup.findAll('div', {'class': 'genre'}):\n",
    "        for a in div.findAll('a'):\n",
    "            genres.append(a.string)\n",
    "    for div in soup.findAll('div', {'class': 'styles'}):\n",
    "        for a in div.findAll('a'):\n",
    "            styles.append(a.string)\n",
    "    if not ret:\n",
    "        print(name+\"--\"+activeDate+\"--\"+\", \".join(genres)+\"--\"+\", \".join(styles))\n",
    "    else:\n",
    "        return {\"name\": name, \"activeDate\": activeDate, \"genres\": \", \".join(genres), \"styles\": \", \".join(styles)}\n",
    "\n",
    "\n",
    "\n",
    "def find_act_url(act):\n",
    "    headers = {\n",
    "    'User-Agent': 'Mozilla/5.0 (X11; Linux i586; rv:31.0) Gecko/20100101 Firefox/31.0'\n",
    "    }\n",
    "    source_code = requests.get(\"https://www.allmusic.com/search/artists/\"+act, headers=headers)\n",
    "    plain_text = source_code.text\n",
    "    soup = BeautifulSoup(plain_text, features=\"lxml\")\n",
    "    \n",
    "    for div in soup.findAll('div', {'class': 'artist'}):\n",
    "        tag = \"\"\"<a href=\"\"\"\n",
    "        url = str(div)[str(div).find(tag)+len(tag)+1:]\n",
    "        url = url[:url.find(\"\"\"\\\"\"\"\")]\n",
    "#         print(\"--\"+url+\"--\")\n",
    "        return url\n",
    "        break\n"
   ]
  },
  {
   "cell_type": "code",
   "execution_count": null,
   "metadata": {},
   "outputs": [],
   "source": [
    "def lowlands_batch2():\n",
    "    acts = [\"Róisín Murphy\", \"Teddy Swims\", \"Confidence Man\", \"David Kushner\", \"Dead Poet Society\", \"Elephant\", \"Kae Tempest\", \"Kokoroko\", \"Personal Trainer\", \"Teezo Touchdown\", \"Zwart Licht\", \"Bar Italia\", \"Charlot\", \"Kin'Gongolo Kiniata\", \"Mette\", \"Mitsune\", \"Model/Actriz\", \"New West\", \"Rachel Chinouriri\", \"Reanny\", \"Steam Down\", \"Venna\", \"Victoria Canal\"]\n",
    "    for act in acts:\n",
    "        url = find_act_url(act)\n",
    "        get_info(url, act)"
   ]
  },
  {
   "cell_type": "code",
   "execution_count": 19,
   "metadata": {},
   "outputs": [],
   "source": [
    "acts = []\n",
    "acts_day = []\n",
    "with open(\"pinkpop_bands_2024.csv\", 'r') as pinkpop_csv:\n",
    "    for line in pinkpop_csv.readlines():\n",
    "        act, day = line[:-1].split(\"\\t\")\n",
    "        acts.append(act)\n",
    "        acts_day.append(day)\n",
    "        \n",
    "Air--1990s - 2020s--Alternative/Indie Rock, Ambient Pop, Electronica, Trip-Hop\n",
    "Another Taste----\n",
    "Arooj Aftab--2000s - 2020s--Minimalism, Vocal Music, Indian Classical, Indian Subcontinent Traditions\n",
    "Artemas--2020s--Pop, Bedroom Pop, Alternative R&B, Left-Field Pop\n",
    "Brunzyn----\n",
    "Dudu Tassa--1990s - 2020s--"
   ]
  },
  {
   "cell_type": "code",
   "execution_count": 14,
   "metadata": {},
   "outputs": [],
   "source": [
    "acts = []\n",
    "acts_day = []\n",
    "with open(\"lowlands_2024_batch3.csv\", 'r') as ll_csv:\n",
    "    for line in ll_csv.readlines():\n",
    "        if line[-1:] == '\\n': line = line[:-1]\n",
    "        acts.append(line)"
   ]
  },
  {
   "cell_type": "code",
   "execution_count": 2,
   "metadata": {},
   "outputs": [],
   "source": [
    "acts = []\n",
    "acts_day = []\n",
    "with open(\"lowlands_2024_batch4.csv\", 'r') as ll_csv:\n",
    "    for line in ll_csv.readlines():\n",
    "        if line[-1:] == '\\n': line = line[:-1]\n",
    "        acts.append(line)"
   ]
  },
  {
   "cell_type": "code",
   "execution_count": 3,
   "metadata": {},
   "outputs": [
    {
     "name": "stdout",
     "output_type": "stream",
     "text": [
      "James Blake--2000s - 2020s--Indie Electronic, Dubstep, Alternative Singer/Songwriter\n",
      "Jonna Fraser--2010s - 2020s--Pop-Rap, Smooth Soul, Soul\n",
      "The Streets--1990s - 2020s--British Rap, Garage, Grime, Club/Dance, UK Garage\n",
      "Thundercat--2000s - 2020s--Alternative R&B, Electric Jazz, Contemporary Jazz\n",
      "Jordan Mackampa--2010s - 2020s--Soul, Pop-Soul, Folk-Pop\n",
      "Mount Kimbie--2000s - 2020s--Dubstep, Indie Electronic, Alternative/Indie Rock, Experimental Techno, New Wave/Post-Punk Revival, Techno\n",
      "Prins S En De Geit----\n",
      "SOFT PLAY--2010s - 2020s--Hardcore Punk, Alternative Metal, Punk, Punk Metal, Punk/New Wave, Alternative/Indie Rock, Punk Revival\n",
      "Willem----\n",
      "Angel Boy--2000s--\n",
      "Bluai--2020s--\n",
      "Chibi Ichigo----\n",
      "Ebbb--2020s--Alternative/Indie Rock, Math Rock, Experimental Rock\n",
      "Master Peace--2010s - 2020s--Indie Rock, Alternative Dance, Alternative/Indie Rock, Left-Field Pop, Chillwave, Indie Pop, Indie Electronic, Contemporary Rap, Pop, Pop Punk\n",
      "Passion--1990s - 2020s--Gospel, CCM, Contemporary Christian, Praise & Worship\n",
      "Wings of Desire----\n",
      "Ye Banished Privateers----\n",
      "Justice--2000s - 2020s--Club/Dance, House, Indie Electronic, French House, Alternative/Indie Rock\n"
     ]
    }
   ],
   "source": [
    "for act in acts:\n",
    "    url = find_act_url(act)\n",
    "    info = get_info(url, act, True)\n",
    "    if info == 0:\n",
    "#         print(act+\"--\"+day+\"--\"+\"--\"+\"--\")\n",
    "        print(act+\"--\"+\"--\")\n",
    "    else:\n",
    "#     print(info[\"name\"]+\"--\"+day+\"--\"+info[\"activeDate\"]+\"--\"+info[\"genres\"]+\"--\"+info[\"styles\"])\n",
    "        print(info[\"name\"]+\"--\"+info[\"activeDate\"]+\"--\"+info[\"styles\"])"
   ]
  },
  {
   "cell_type": "code",
   "execution_count": 20,
   "metadata": {},
   "outputs": [
    {
     "name": "stdout",
     "output_type": "stream",
     "text": [
      "Måneskin--friday--2010s - 2020s--Neo-Glam, Indie Rock, Pop, Alternative/Indie Rock, Indie Electronic\n",
      "Calvin Harris--saturday--1990s - 2020s--Alternative Dance, Club/Dance, EDM, Pop, Dance-Pop\n",
      "Ed Sheeran--sunday--2000s - 2020s--Contemporary Singer/Songwriter, Pop\n",
      "Keane--friday--1990s - 2020s--Alternative Pop/Rock, Alternative/Indie Rock, Contemporary Pop/Rock, Britpop, Contemporary Singer/Songwriter\n",
      "Nothing But Thieves--saturday--2010s - 2020s--Adult Alternative Pop/Rock, Alternative/Indie Rock\n",
      "Sam Smith--sunday--2000s - 2020s--Adult Contemporary, Pop\n",
      "Avril Lavigne--friday--1990s - 2020s--Adult Alternative Pop/Rock, Pop Punk, Alternative/Indie Rock, Contemporary Pop/Rock\n",
      "Anouk--saturday--1990s - 2020s--Euro-Rock, Alternative/Indie Rock, Contemporary Pop/Rock, Euro-Pop\n",
      "Hozier--sunday--2000s - 2020s--Contemporary Singer/Songwriter, Adult Alternative Pop/Rock, Alternative/Indie Rock\n",
      "Limp Bizkit--sunday--1990s - 2020s--Nü Metal, Rap-Metal, Heavy Metal, Post-Grunge, Rap-Rock, Alternative Metal, Funk Metal, Hard Rock\n",
      "Greta Van Fleet--sunday--2010s - 2020s--Hard Rock, Album Rock, American Trad Rock\n",
      "Royal Blood--friday--2010s - 2020s--Alternative/Indie Rock, Indie Rock, Punk Blues\n",
      "Louis Tomlinson--saturday--2010s - 2020s--Contemporary Singer/Songwriter, Pop, Pop Idol, Teen Pop, Dance-Pop\n",
      "Yungblud--friday--2010s - 2020s--Alternative/Indie Rock, Left-Field Pop, Pop, Pop Punk\n",
      "Pendulum--saturday--2000s - 2020s--Club/Dance, Industrial Drum'n'Bass, Jungle/Drum'n'Bass, Ambient Techno, Electronica, Techno, Trance\n",
      "Acda en De Munnik--friday--1990s - 2000s--Dutch, Western European Traditions\n",
      "Against the Current--saturday--2010s - 2020s--Alternative/Indie Rock, Dance-Rock, Pop Punk\n",
      "The Analogues--saturday--2010s - 2020s--\n",
      "Babymetal--friday--2010s - 2020s--Alternative Metal, Heavy Metal\n",
      "Calum Scott--sunday--2010s - 2020s--Pop, Pop Idol\n",
      "Cian Ducrot--friday--2010s - 2020s--Contemporary Pop/Rock, Contemporary Singer/Songwriter, Pop\n",
      "Corey Taylor--saturday--1990s - 2020s--Alternative Metal, Heavy Metal, Post-Grunge, Nü Metal, Rap-Metal\n",
      "Davina Michelle--sunday--2010s - 2020s--Contemporary Singer/Songwriter, Dance-Pop, Dutch\n",
      "De Jeugd Van Tegenwoordig--saturday--2000s - 2020s--Pop, Dance-Pop\n",
      "Dool--sunday--2010s--Black Metal, Hard Rock, Doom Metal, Heavy Metal, Goth Metal, Pop-Metal\n",
      "Douwe Bob--saturday--2010s--Adult Alternative Pop/Rock, Contemporary Singer/Songwriter, Alternative/Indie Rock\n",
      "Froukje--saturday--2020s--\n",
      "Ilse DeLange--sunday--2000s--Contemporary Country, Dutch, Western European Traditions\n",
      "The Interrupters--sunday--2010s - 2020s--Alternative/Indie Rock, Ska-Punk, Third Wave Ska Revival\n",
      "James Arthur--sunday--2010s - 2020s--Contemporary Pop/Rock, Adult Alternative Pop/Rock, Pop Idol\n",
      "Jane's Addiction--sunday--1980s - 2020s--Alternative Metal, Alternative/Indie Rock, Alternative Pop/Rock, Heavy Metal, Dance-Rock\n",
      "John Coffey--saturday--2000s - 2010s--Alternative/Indie Rock, Post-Hardcore, Punk, Punk/New Wave\n",
      "Lauren Spencer-Smith--saturday--2010s - 2020s--Contemporary Singer/Songwriter, Pop\n",
      "Loreen--sunday--2010s - 2020s--Pop, Pop Idol, Dance-Pop\n",
      "Matt Maltese--saturday--2010s - 2020s--Alternative Singer/Songwriter, Alternative/Indie Rock, Chamber Pop\n",
      "Meute--sunday--2010s - 2020s--\n",
      "Nathaniel Rateliff &amp; the Night Sweats--friday--2010s - 2020s--Retro-Rock, Roots Rock, Heartland Rock\n",
      "Oliver Heldens--saturday--2010s - 2020s--Club/Dance, EDM, House, Progressive House\n",
      "Palaye Royale--friday--2010s - 2020s--Indie Rock, Alternative/Indie Rock\n",
      "Polyphia--friday--2010s - 2020s--Hard Rock, Neo-Prog, Guitar Virtuoso, Instrumental Rock, Fusion, Contemporary Pop/Rock\n",
      "S10--friday----\n",
      "Pommelien Thijs--friday--2020s--\n",
      "Sea Girls--sunday--2010s - 2020s--Alternative/Indie Rock, Indie Pop\n",
      "Skindred--friday--1990s - 2020s--Alternative Metal, Heavy Metal, Post-Grunge, Rap-Metal\n",
      "Tinlicker--friday--2010s - 2020s--Club/Dance, Progressive House, House, Techno\n",
      "Henry Moodie--sunday--2020s--\n",
      "AViVA--friday--2010s - 2020s--Alternative/Indie Rock, Left-Field Pop, Pop, Indie Electronic\n",
      "Chinchilla--saturday--1990s--Alternative Pop/Rock, Alternative/Indie Rock, Indie Rock\n",
      "ClockClock--friday--2020s--\n",
      "Dagny--friday--2010s - 2020s--Pop, Adult Alternative Pop/Rock, Alternative/Indie Rock\n",
      "Dead Pony--saturday----\n",
      "Fleddy Melculy--friday--2010s - 2020s--\n",
      "Gunmoll--sunday--2000s--Alternative/Indie Rock, Punk Revival, Post-Hardcore\n",
      "James Marriott--saturday--2020s--Indie Rock, Alternative/Indie Rock\n",
      "Robin Thicke--sunday--1990s - 2020s--Adult Contemporary R&B, Contemporary R&B, Pop\n",
      "KAWALA--friday--2010s - 2020s--Indie Pop, Alternative/Indie Rock, Contemporary Pop/Rock, Indie Folk\n",
      "The Lottery Winners--saturday--2000s - 2020s--Alternative/Indie Rock, Indie Pop\n",
      "Five Mile Sniper--friday----\n",
      "Ella Fitzgerald--friday--1930s - 1990s--Bop, Standards, Swing, Traditional Pop, Vocal Jazz, American Popular Song\n",
      "Ploegendienst--saturday----\n",
      "Ruby Waters--sunday----\n",
      "TALK--sunday--2020s--Adult Alternative Pop/Rock, Alternative/Indie Rock, Contemporary Singer/Songwriter\n",
      "Tors--saturday----\n",
      "Vices--saturday--1990s - 2020s--\n",
      "Yin Yan--sunday----\n",
      "Luciana Souza--saturday--2000s - 2020s--Vocal Jazz, Brazilian Jazz, Global Jazz, Brazilian Traditions, Modern Jazz Vocals, MPB, Vocalese, Post-Bop\n",
      "Jiri11--friday----\n"
     ]
    }
   ],
   "source": [
    "for act, day in zip(acts, acts_day):\n",
    "    url = find_act_url(act)\n",
    "    info = get_info(url, act, True)\n",
    "    if info == 0:\n",
    "#         print(act+\"--\"+day+\"--\"+\"--\"+\"--\")\n",
    "        print(act+\"--\"+day+\"--\"+\"--\")\n",
    "    else:\n",
    "#     print(info[\"name\"]+\"--\"+day+\"--\"+info[\"activeDate\"]+\"--\"+info[\"genres\"]+\"--\"+info[\"styles\"])\n",
    "        print(info[\"name\"]+\"--\"+day+\"--\"+info[\"activeDate\"]+\"--\"+info[\"styles\"])"
   ]
  },
  {
   "cell_type": "code",
   "execution_count": null,
   "metadata": {},
   "outputs": [],
   "source": []
  }
 ],
 "metadata": {
  "kernelspec": {
   "display_name": ".venv",
   "language": "python",
   "name": "python3"
  },
  "language_info": {
   "codemirror_mode": {
    "name": "ipython",
    "version": 3
   },
   "file_extension": ".py",
   "mimetype": "text/x-python",
   "name": "python",
   "nbconvert_exporter": "python",
   "pygments_lexer": "ipython3",
   "version": "3.13.1"
  }
 },
 "nbformat": 4,
 "nbformat_minor": 5
}
